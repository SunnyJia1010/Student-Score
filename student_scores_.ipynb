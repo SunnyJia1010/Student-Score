{
  "nbformat": 4,
  "nbformat_minor": 0,
  "metadata": {
    "kernelspec": {
      "display_name": "Python 3",
      "language": "python",
      "name": "python3"
    },
    "language_info": {
      "codemirror_mode": {
        "name": "ipython",
        "version": 3
      },
      "file_extension": ".py",
      "mimetype": "text/x-python",
      "name": "python",
      "nbconvert_exporter": "python",
      "pygments_lexer": "ipython3",
      "version": "3.6.2"
    },
    "colab": {
      "name": "student_scores_.ipynb",
      "provenance": []
    }
  },
  "cells": [
    {
      "cell_type": "markdown",
      "metadata": {
        "id": "C--MBpLG6lRi",
        "colab_type": "text"
      },
      "source": [
        "### Linear regression with Scikit-Learn\n",
        "\n",
        "There are two types of supervised machine learning algorithms: Regression and classification. The former predicts continuous value outputs while the latter predicts discrete outputs. For example, predicting the price of stock is a regression problem whereas predicting a spam/ham email is a classification problem.\n",
        "\n",
        "Here we will study linear regression implementation using Python Scikit-Learn library. We will start with simple linear regression involving two variables and then we will consider multiple linear regression involving multiple variables.\n"
      ]
    },
    {
      "cell_type": "markdown",
      "metadata": {
        "id": "grCxhQcZ6lRr",
        "colab_type": "text"
      },
      "source": [
        "\n",
        "### Dataset\n",
        "\n",
        "The dataset is publicly available and can be downloaded from the following link\n",
        "\n",
        "https://www.kaggle.com/kamleshsam/student-scores/kernels"
      ]
    },
    {
      "cell_type": "markdown",
      "metadata": {
        "id": "JCulFzIL6lRl",
        "colab_type": "text"
      },
      "source": [
        "### Import Libraries"
      ]
    },
    {
      "cell_type": "code",
      "metadata": {
        "id": "MvnQm6SN3qqR",
        "colab_type": "code",
        "colab": {
          "base_uri": "https://localhost:8080/",
          "height": 35
        },
        "outputId": "c1c0b92d-b400-400a-cbd4-a2a0c0559979"
      },
      "source": [
        "from google.colab import drive\n",
        "drive.mount('/content/drive')"
      ],
      "execution_count": 1,
      "outputs": [
        {
          "output_type": "stream",
          "text": [
            "Drive already mounted at /content/drive; to attempt to forcibly remount, call drive.mount(\"/content/drive\", force_remount=True).\n"
          ],
          "name": "stdout"
        }
      ]
    },
    {
      "cell_type": "code",
      "metadata": {
        "id": "BkQvvlFW6lRm",
        "colab_type": "code",
        "colab": {}
      },
      "source": [
        "import pandas as pd  \n",
        "import numpy as np  \n",
        "import matplotlib.pyplot as plt  \n",
        "%matplotlib inline"
      ],
      "execution_count": 0,
      "outputs": []
    },
    {
      "cell_type": "code",
      "metadata": {
        "id": "T7JhaTy16lRs",
        "colab_type": "code",
        "colab": {}
      },
      "source": [
        "# load the data set \n",
        "data_df=pd.read_csv('../content/drive/My Drive/DSProject/StudentScore/student_scores.csv', encoding='Latin-1')\n"
      ],
      "execution_count": 0,
      "outputs": []
    },
    {
      "cell_type": "markdown",
      "metadata": {
        "id": "yeKuclhV2dQv",
        "colab_type": "text"
      },
      "source": [
        ""
      ]
    },
    {
      "cell_type": "markdown",
      "metadata": {
        "id": "kllrBZV66lRv",
        "colab_type": "text"
      },
      "source": [
        "Now let's explore the dataset a bit. "
      ]
    },
    {
      "cell_type": "code",
      "metadata": {
        "id": "7BJoLdEP6lRv",
        "colab_type": "code",
        "outputId": "93b50e02-d0e7-4fad-fcc4-8b5fac7c297a",
        "colab": {
          "base_uri": "https://localhost:8080/",
          "height": 35
        }
      },
      "source": [
        "data_df.shape"
      ],
      "execution_count": 4,
      "outputs": [
        {
          "output_type": "execute_result",
          "data": {
            "text/plain": [
              "(25, 2)"
            ]
          },
          "metadata": {
            "tags": []
          },
          "execution_count": 4
        }
      ]
    },
    {
      "cell_type": "code",
      "metadata": {
        "id": "SJt-DIFW6lRz",
        "colab_type": "code",
        "outputId": "6b0c609e-b152-40b9-dc94-c476a03807ad",
        "colab": {
          "base_uri": "https://localhost:8080/",
          "height": 35
        }
      },
      "source": [
        "data_df.columns"
      ],
      "execution_count": 5,
      "outputs": [
        {
          "output_type": "execute_result",
          "data": {
            "text/plain": [
              "Index(['Hours', 'Scores'], dtype='object')"
            ]
          },
          "metadata": {
            "tags": []
          },
          "execution_count": 5
        }
      ]
    },
    {
      "cell_type": "markdown",
      "metadata": {
        "id": "knoeNx696lR2",
        "colab_type": "text"
      },
      "source": [
        "This means that our dataset has 25 rows and 2 columns. Let's take a look at what our dataset actually looks like. "
      ]
    },
    {
      "cell_type": "code",
      "metadata": {
        "id": "YffPtiV96lR3",
        "colab_type": "code",
        "outputId": "4b43698b-1239-469c-a284-64e19f15fe38",
        "colab": {
          "base_uri": "https://localhost:8080/",
          "height": 204
        }
      },
      "source": [
        "data_df.head()"
      ],
      "execution_count": 6,
      "outputs": [
        {
          "output_type": "execute_result",
          "data": {
            "text/html": [
              "<div>\n",
              "<style scoped>\n",
              "    .dataframe tbody tr th:only-of-type {\n",
              "        vertical-align: middle;\n",
              "    }\n",
              "\n",
              "    .dataframe tbody tr th {\n",
              "        vertical-align: top;\n",
              "    }\n",
              "\n",
              "    .dataframe thead th {\n",
              "        text-align: right;\n",
              "    }\n",
              "</style>\n",
              "<table border=\"1\" class=\"dataframe\">\n",
              "  <thead>\n",
              "    <tr style=\"text-align: right;\">\n",
              "      <th></th>\n",
              "      <th>Hours</th>\n",
              "      <th>Scores</th>\n",
              "    </tr>\n",
              "  </thead>\n",
              "  <tbody>\n",
              "    <tr>\n",
              "      <th>0</th>\n",
              "      <td>2.5</td>\n",
              "      <td>21</td>\n",
              "    </tr>\n",
              "    <tr>\n",
              "      <th>1</th>\n",
              "      <td>5.1</td>\n",
              "      <td>47</td>\n",
              "    </tr>\n",
              "    <tr>\n",
              "      <th>2</th>\n",
              "      <td>3.2</td>\n",
              "      <td>27</td>\n",
              "    </tr>\n",
              "    <tr>\n",
              "      <th>3</th>\n",
              "      <td>8.5</td>\n",
              "      <td>75</td>\n",
              "    </tr>\n",
              "    <tr>\n",
              "      <th>4</th>\n",
              "      <td>3.5</td>\n",
              "      <td>30</td>\n",
              "    </tr>\n",
              "  </tbody>\n",
              "</table>\n",
              "</div>"
            ],
            "text/plain": [
              "   Hours  Scores\n",
              "0    2.5      21\n",
              "1    5.1      47\n",
              "2    3.2      27\n",
              "3    8.5      75\n",
              "4    3.5      30"
            ]
          },
          "metadata": {
            "tags": []
          },
          "execution_count": 6
        }
      ]
    },
    {
      "cell_type": "markdown",
      "metadata": {
        "id": "MvYA3a966lR5",
        "colab_type": "text"
      },
      "source": [
        "To see statistical details of the dataset"
      ]
    },
    {
      "cell_type": "code",
      "metadata": {
        "id": "cciRodwo6lR6",
        "colab_type": "code",
        "outputId": "4b21ae36-ca87-4775-f1f5-b958b4bac3ef",
        "colab": {
          "base_uri": "https://localhost:8080/",
          "height": 297
        }
      },
      "source": [
        "data_df.describe()"
      ],
      "execution_count": 7,
      "outputs": [
        {
          "output_type": "execute_result",
          "data": {
            "text/html": [
              "<div>\n",
              "<style scoped>\n",
              "    .dataframe tbody tr th:only-of-type {\n",
              "        vertical-align: middle;\n",
              "    }\n",
              "\n",
              "    .dataframe tbody tr th {\n",
              "        vertical-align: top;\n",
              "    }\n",
              "\n",
              "    .dataframe thead th {\n",
              "        text-align: right;\n",
              "    }\n",
              "</style>\n",
              "<table border=\"1\" class=\"dataframe\">\n",
              "  <thead>\n",
              "    <tr style=\"text-align: right;\">\n",
              "      <th></th>\n",
              "      <th>Hours</th>\n",
              "      <th>Scores</th>\n",
              "    </tr>\n",
              "  </thead>\n",
              "  <tbody>\n",
              "    <tr>\n",
              "      <th>count</th>\n",
              "      <td>25.000000</td>\n",
              "      <td>25.000000</td>\n",
              "    </tr>\n",
              "    <tr>\n",
              "      <th>mean</th>\n",
              "      <td>5.012000</td>\n",
              "      <td>51.480000</td>\n",
              "    </tr>\n",
              "    <tr>\n",
              "      <th>std</th>\n",
              "      <td>2.525094</td>\n",
              "      <td>25.286887</td>\n",
              "    </tr>\n",
              "    <tr>\n",
              "      <th>min</th>\n",
              "      <td>1.100000</td>\n",
              "      <td>17.000000</td>\n",
              "    </tr>\n",
              "    <tr>\n",
              "      <th>25%</th>\n",
              "      <td>2.700000</td>\n",
              "      <td>30.000000</td>\n",
              "    </tr>\n",
              "    <tr>\n",
              "      <th>50%</th>\n",
              "      <td>4.800000</td>\n",
              "      <td>47.000000</td>\n",
              "    </tr>\n",
              "    <tr>\n",
              "      <th>75%</th>\n",
              "      <td>7.400000</td>\n",
              "      <td>75.000000</td>\n",
              "    </tr>\n",
              "    <tr>\n",
              "      <th>max</th>\n",
              "      <td>9.200000</td>\n",
              "      <td>95.000000</td>\n",
              "    </tr>\n",
              "  </tbody>\n",
              "</table>\n",
              "</div>"
            ],
            "text/plain": [
              "           Hours     Scores\n",
              "count  25.000000  25.000000\n",
              "mean    5.012000  51.480000\n",
              "std     2.525094  25.286887\n",
              "min     1.100000  17.000000\n",
              "25%     2.700000  30.000000\n",
              "50%     4.800000  47.000000\n",
              "75%     7.400000  75.000000\n",
              "max     9.200000  95.000000"
            ]
          },
          "metadata": {
            "tags": []
          },
          "execution_count": 7
        }
      ]
    },
    {
      "cell_type": "code",
      "metadata": {
        "id": "fJVbcIr36lR8",
        "colab_type": "code",
        "outputId": "3ef15017-d849-430e-b481-a95d999b4042",
        "colab": {
          "base_uri": "https://localhost:8080/",
          "height": 111
        }
      },
      "source": [
        "data_df.corr()"
      ],
      "execution_count": 8,
      "outputs": [
        {
          "output_type": "execute_result",
          "data": {
            "text/html": [
              "<div>\n",
              "<style scoped>\n",
              "    .dataframe tbody tr th:only-of-type {\n",
              "        vertical-align: middle;\n",
              "    }\n",
              "\n",
              "    .dataframe tbody tr th {\n",
              "        vertical-align: top;\n",
              "    }\n",
              "\n",
              "    .dataframe thead th {\n",
              "        text-align: right;\n",
              "    }\n",
              "</style>\n",
              "<table border=\"1\" class=\"dataframe\">\n",
              "  <thead>\n",
              "    <tr style=\"text-align: right;\">\n",
              "      <th></th>\n",
              "      <th>Hours</th>\n",
              "      <th>Scores</th>\n",
              "    </tr>\n",
              "  </thead>\n",
              "  <tbody>\n",
              "    <tr>\n",
              "      <th>Hours</th>\n",
              "      <td>1.000000</td>\n",
              "      <td>0.976191</td>\n",
              "    </tr>\n",
              "    <tr>\n",
              "      <th>Scores</th>\n",
              "      <td>0.976191</td>\n",
              "      <td>1.000000</td>\n",
              "    </tr>\n",
              "  </tbody>\n",
              "</table>\n",
              "</div>"
            ],
            "text/plain": [
              "           Hours    Scores\n",
              "Hours   1.000000  0.976191\n",
              "Scores  0.976191  1.000000"
            ]
          },
          "metadata": {
            "tags": []
          },
          "execution_count": 8
        }
      ]
    },
    {
      "cell_type": "markdown",
      "metadata": {
        "id": "qATIY5BE6lR_",
        "colab_type": "text"
      },
      "source": [
        "And finally, let's plot out data and see if we can manually find any relationship between the data. "
      ]
    },
    {
      "cell_type": "code",
      "metadata": {
        "id": "FaVDCRiQ6lSA",
        "colab_type": "code",
        "outputId": "dcd6a9fc-d9df-4696-9871-45fc077e6a1e",
        "colab": {
          "base_uri": "https://localhost:8080/",
          "height": 295
        }
      },
      "source": [
        "data_df.plot(x='Hours', y='Scores', style='o')  \n",
        "plt.title('Hours vs Percentage')  \n",
        "plt.xlabel('Hours Studied')  \n",
        "plt.ylabel('Percentage Score')  \n",
        "plt.show()"
      ],
      "execution_count": 9,
      "outputs": [
        {
          "output_type": "display_data",
          "data": {
            "image/png": "[encoded data removed]",
            "text/plain": [
              "<Figure size 432x288 with 1 Axes>"
            ]
          },
          "metadata": {
            "tags": []
          }
        }
      ]
    },
    {
      "cell_type": "markdown",
      "metadata": {
        "id": "9ZYfBrjH6lSC",
        "colab_type": "text"
      },
      "source": [
        "From the gaprh, we can clearly see that there is a positive linear relationship between the two variables.\n",
        "\n",
        "Next step is to divide the data into input (independent variable) and output variables (dependent variables) whose values are to be predicted. \n"
      ]
    },
    {
      "cell_type": "code",
      "metadata": {
        "id": "KNQQk3Dm6lSD",
        "colab_type": "code",
        "colab": {}
      },
      "source": [
        "X = data_df.iloc[:,0]    # X = data_df.Hours\n",
        "y = data_df.iloc[:,1]    # y = data_df.Scores"
      ],
      "execution_count": 0,
      "outputs": []
    },
    {
      "cell_type": "code",
      "metadata": {
        "id": "g1m-mTX_6lSG",
        "colab_type": "code",
        "outputId": "1332c0f3-6e62-41cc-aba1-fcc3038d299e",
        "colab": {
          "base_uri": "https://localhost:8080/",
          "height": 35
        }
      },
      "source": [
        "print('X: ', X.shape)"
      ],
      "execution_count": 11,
      "outputs": [
        {
          "output_type": "stream",
          "text": [
            "X:  (25,)\n"
          ],
          "name": "stdout"
        }
      ]
    },
    {
      "cell_type": "code",
      "metadata": {
        "id": "TITxdvFF6lSJ",
        "colab_type": "code",
        "outputId": "ce2c9d1e-cf46-4030-8f5c-2b9d64d23523",
        "colab": {
          "base_uri": "https://localhost:8080/",
          "height": 35
        }
      },
      "source": [
        "print('y: ', y.shape)"
      ],
      "execution_count": 12,
      "outputs": [
        {
          "output_type": "stream",
          "text": [
            "y:  (25,)\n"
          ],
          "name": "stdout"
        }
      ]
    },
    {
      "cell_type": "markdown",
      "metadata": {
        "id": "jqR5F_ze6lSL",
        "colab_type": "text"
      },
      "source": [
        "Next step is to split the data into training and test sets. we are splitting the data into 80% and 20% into training and testing respectively.  "
      ]
    },
    {
      "cell_type": "code",
      "metadata": {
        "id": "Y6eXXQaH6lSM",
        "colab_type": "code",
        "colab": {}
      },
      "source": [
        "from sklearn.model_selection import train_test_split  \n",
        "X_train, X_test, y_train, y_test = train_test_split(X, y, test_size=0.2, random_state=123)\n",
        "X_train = pd.DataFrame(X_train)\n",
        "y_train = pd.DataFrame(y_train)\n",
        "X_test = pd.DataFrame(X_test)\n",
        "y_test = pd.DataFrame(y_test)"
      ],
      "execution_count": 0,
      "outputs": []
    },
    {
      "cell_type": "markdown",
      "metadata": {
        "id": "mRpRe7sm6lSP",
        "colab_type": "text"
      },
      "source": [
        "To make sure that the data has been divided as we are expecting"
      ]
    },
    {
      "cell_type": "code",
      "metadata": {
        "id": "YxAj1oPl6lSQ",
        "colab_type": "code",
        "outputId": "cc227cfe-a292-4c31-df40-9467fdbc4572",
        "colab": {
          "base_uri": "https://localhost:8080/",
          "height": 197
        }
      },
      "source": [
        "print('X_train: ', X_train.shape)\n",
        "print('\\n')\n",
        "print('X_test: ', X_test.shape)\n",
        "print('\\n')\n",
        "print('y_train: ', y_train.shape)\n",
        "print('\\n')\n",
        "print('y_test: ', y_test.shape)\n"
      ],
      "execution_count": 14,
      "outputs": [
        {
          "output_type": "stream",
          "text": [
            "X_train:  (20, 1)\n",
            "\n",
            "\n",
            "X_test:  (5, 1)\n",
            "\n",
            "\n",
            "y_train:  (20, 1)\n",
            "\n",
            "\n",
            "y_test:  (5, 1)\n"
          ],
          "name": "stdout"
        }
      ]
    },
    {
      "cell_type": "markdown",
      "metadata": {
        "id": "udQ0EDGL6lST",
        "colab_type": "text"
      },
      "source": [
        "Now our data is ready. Finally we want to fit the model.\n"
      ]
    },
    {
      "cell_type": "code",
      "metadata": {
        "id": "nLe_HgdY6lST",
        "colab_type": "code",
        "outputId": "4397bc52-3a5a-4a78-c67b-9af256f8102a",
        "colab": {
          "base_uri": "https://localhost:8080/",
          "height": 35
        }
      },
      "source": [
        "from sklearn.linear_model import LinearRegression  \n",
        "linear_model = LinearRegression()  \n",
        "linear_model.fit(X_train, y_train)"
      ],
      "execution_count": 15,
      "outputs": [
        {
          "output_type": "execute_result",
          "data": {
            "text/plain": [
              "LinearRegression(copy_X=True, fit_intercept=True, n_jobs=None, normalize=False)"
            ]
          },
          "metadata": {
            "tags": []
          },
          "execution_count": 15
        }
      ]
    },
    {
      "cell_type": "markdown",
      "metadata": {
        "id": "sW6TdfEN6lSW",
        "colab_type": "text"
      },
      "source": [
        "Linear regression model basically finds the best value for the intercept and slope, which results in a line that best fits the data. See the intercept and slope"
      ]
    },
    {
      "cell_type": "code",
      "metadata": {
        "id": "_GfRMEb96lSX",
        "colab_type": "code",
        "outputId": "31c03fd8-2a50-4bad-a10b-f5de4cc40f32",
        "colab": {
          "base_uri": "https://localhost:8080/",
          "height": 35
        }
      },
      "source": [
        "# Intercept\n",
        "print(linear_model.intercept_)"
      ],
      "execution_count": 16,
      "outputs": [
        {
          "output_type": "stream",
          "text": [
            "[2.69538892]\n"
          ],
          "name": "stdout"
        }
      ]
    },
    {
      "cell_type": "markdown",
      "metadata": {
        "id": "fsE_5cuT6lSZ",
        "colab_type": "text"
      },
      "source": [
        "The intercept is approximately 2.69538892"
      ]
    },
    {
      "cell_type": "code",
      "metadata": {
        "id": "8aIyciFn6lSa",
        "colab_type": "code",
        "outputId": "3cb91bd2-0023-45ce-e7c2-90359ac6a327",
        "colab": {
          "base_uri": "https://localhost:8080/",
          "height": 35
        }
      },
      "source": [
        "# Slope \n",
        "\n",
        "print(linear_model.coef_) "
      ],
      "execution_count": 17,
      "outputs": [
        {
          "output_type": "stream",
          "text": [
            "[[9.60171878]]\n"
          ],
          "name": "stdout"
        }
      ]
    },
    {
      "cell_type": "markdown",
      "metadata": {
        "id": "dLCLN-zh6lSc",
        "colab_type": "text"
      },
      "source": [
        "This means that for every one unit of change in hours studied, the change in the score is about 9.60%. Or in simpler words, if a student studies one hour more than they previously studied for an exam, they can expect to achieve an increase of 9.60% in the score achieved by the student previously.\n"
      ]
    },
    {
      "cell_type": "code",
      "metadata": {
        "id": "WNVKQUDd6lSe",
        "colab_type": "code",
        "outputId": "716e2964-a5fc-4091-ecb8-6652e882149b",
        "colab": {
          "base_uri": "https://localhost:8080/",
          "height": 35
        }
      },
      "source": [
        "# R2 value\n",
        "linear_model.score(X_train, y_train)"
      ],
      "execution_count": 18,
      "outputs": [
        {
          "output_type": "execute_result",
          "data": {
            "text/plain": [
              "0.9493255692526655"
            ]
          },
          "metadata": {
            "tags": []
          },
          "execution_count": 18
        }
      ]
    },
    {
      "cell_type": "markdown",
      "metadata": {
        "id": "S3lTVjD86lSp",
        "colab_type": "text"
      },
      "source": [
        "Once we have fitted the model we want to see how good it is. "
      ]
    },
    {
      "cell_type": "code",
      "metadata": {
        "id": "eqMETTC36lSs",
        "colab_type": "code",
        "outputId": "791fb81f-34e9-48d4-eff9-33f167bc04e8",
        "colab": {
          "base_uri": "https://localhost:8080/",
          "height": 295
        }
      },
      "source": [
        "plt.scatter(X_train, y_train) \n",
        "plt.plot(X_train, linear_model.predict(X_train), color = 'red')\n",
        "plt.title('Hours vs Percentage')  \n",
        "plt.xlabel('Hours Studied')  \n",
        "plt.ylabel('Percentage Score')  \n",
        "plt.show()"
      ],
      "execution_count": 19,
      "outputs": [
        {
          "output_type": "display_data",
          "data": {
            "image/png": "[encoded data removed]",
            "text/plain": [
              "<Figure size 432x288 with 1 Axes>"
            ]
          },
          "metadata": {
            "tags": []
          }
        }
      ]
    },
    {
      "cell_type": "markdown",
      "metadata": {
        "id": "ljZWaEyh6lSu",
        "colab_type": "text"
      },
      "source": [
        "Once we have trained our algorithm, it's time to make predictions. "
      ]
    },
    {
      "cell_type": "code",
      "metadata": {
        "id": "i9ihURkJ6lSv",
        "colab_type": "code",
        "colab": {}
      },
      "source": [
        "y_pred = (linear_model.predict(X_test))\n"
      ],
      "execution_count": 0,
      "outputs": []
    },
    {
      "cell_type": "markdown",
      "metadata": {
        "id": "KWOVuehB6lSx",
        "colab_type": "text"
      },
      "source": [
        "Let us see the test data and predicted line."
      ]
    },
    {
      "cell_type": "code",
      "metadata": {
        "id": "E5paR4oe6lSy",
        "colab_type": "code",
        "outputId": "c85ff178-42ee-4d68-9640-d76263de7375",
        "colab": {
          "base_uri": "https://localhost:8080/",
          "height": 295
        }
      },
      "source": [
        "plt.scatter(X_test, y_test) \n",
        "plt.plot(X_test, y_pred, color = 'red')\n",
        "plt.title('Hours vs Percentage')  \n",
        "plt.xlabel('Hours Studied')  \n",
        "plt.ylabel('Percentage Score')  \n",
        "plt.show()"
      ],
      "execution_count": 21,
      "outputs": [
        {
          "output_type": "display_data",
          "data": {
            "image/png": "[encoded data removed]",
            "text/plain": [
              "<Figure size 432x288 with 1 Axes>"
            ]
          },
          "metadata": {
            "tags": []
          }
        }
      ]
    },
    {
      "cell_type": "markdown",
      "metadata": {
        "id": "CSCEpQIG6lS3",
        "colab_type": "text"
      },
      "source": [
        "Compare the actual output values for X_test with the predicted values, "
      ]
    },
    {
      "cell_type": "markdown",
      "metadata": {
        "id": "g3SiWuxp6lS4",
        "colab_type": "text"
      },
      "source": [
        "# Evaluating the Algorithm\n",
        "The final step is to evaluate the performance of algorithm. For regression algorithms, three evaluation metrics are commonly used: \n",
        "\n",
        "1. Mean Absolute Error (MAE) is the mean of the absolute value of the errors. It is calculated as:\n",
        "\n",
        "\\begin{equation}\n",
        "\\frac {1} {n} \\sum_{i=1}^n |y_{actual} - y_{pred}|\n",
        "\\end{equation}\n",
        "\n",
        "2. Mean Squared Error (MSE) is the mean of the squared errors and is calculated as:\n",
        "\n",
        "\\begin{equation}\n",
        "\\frac {1} {n}  \\sum_{i=1}^n | y_{actual} - y_{pred} |^2\n",
        "\\end{equation}\n",
        "\n",
        "\n",
        "Root Mean Squared Error (RMSE) is the square root of the mean of the squared errors:\n",
        "\n",
        "\\begin{equation}\n",
        "\\sqrt{\\frac {1} {n} \\sum_{i=1}^n | y_{actual} - y_{pred} |^2}\n",
        "\\end{equation}\n",
        "\n"
      ]
    },
    {
      "cell_type": "markdown",
      "metadata": {
        "id": "QVoN5Hnv6lS5",
        "colab_type": "text"
      },
      "source": [
        "Fotunately Scikit-Learn library comes with pre-built functions to calculate these values\n"
      ]
    },
    {
      "cell_type": "code",
      "metadata": {
        "id": "JfhryKrg6lS5",
        "colab_type": "code",
        "outputId": "4d6e2ad3-38fd-4d6f-9560-3ed1812639e9",
        "colab": {
          "base_uri": "https://localhost:8080/",
          "height": 71
        }
      },
      "source": [
        "from sklearn import metrics  \n",
        "print('Mean Absolute Error:', metrics.mean_absolute_error(y_test, y_pred))  \n",
        "print('Mean Squared Error:', metrics.mean_squared_error(y_test, y_pred))  \n",
        "print('Root Mean Squared Error:', np.sqrt(metrics.mean_squared_error(y_test, y_pred)))"
      ],
      "execution_count": 22,
      "outputs": [
        {
          "output_type": "stream",
          "text": [
            "Mean Absolute Error: 4.976750923680405\n",
            "Mean Squared Error: 26.582796488881115\n",
            "Root Mean Squared Error: 5.155850704673393\n"
          ],
          "name": "stdout"
        }
      ]
    },
    {
      "cell_type": "markdown",
      "metadata": {
        "id": "i1X817P-6lS8",
        "colab_type": "text"
      },
      "source": [
        "You can see that the value of root mean squared error is 5.15, which is about 10% of the mean value of the percentages of all the students i.e. 51.48. This means that our algorithm did a decent job"
      ]
    },
    {
      "cell_type": "markdown",
      "metadata": {
        "id": "UQ-0JNae6lS8",
        "colab_type": "text"
      },
      "source": [
        "#### Residual Plots\n",
        "Residual plots are a good way to visualize the errors in your data. If you have done a good job then your data should be randomly scattered around line zero. If you see structure in your data, that means your model is not capturing some thing. Maye be there is a interaction between 2 variables that you are not considering, or may be you are measuring time dependent data. If you get some structure in your data, you should go back to your model and check whether you are doing a good job with your parameters.\n",
        "\n"
      ]
    },
    {
      "cell_type": "code",
      "metadata": {
        "id": "Rkn4TaBS6lS9",
        "colab_type": "code",
        "outputId": "9f55b158-9b66-41cd-bca1-559bc3934778",
        "colab": {
          "base_uri": "https://localhost:8080/",
          "height": 313
        }
      },
      "source": [
        "plt.scatter(linear_model.predict(X_train), linear_model.predict(X_train)-y_train, c= 'b', alpha = 0.5)\n",
        "plt.scatter(linear_model.predict(X_test), linear_model.predict(X_test)-y_test, c= 'g')\n",
        "plt.hlines(y = 0, xmin = 0, xmax = 100)\n",
        "plt.title('Residual plot using training (blue) and test(green) data')\n",
        "plt.ylabel('Residuals')\n",
        "plt.xlabel('Fitted values')"
      ],
      "execution_count": 23,
      "outputs": [
        {
          "output_type": "execute_result",
          "data": {
            "text/plain": [
              "Text(0.5, 0, 'Fitted values')"
            ]
          },
          "metadata": {
            "tags": []
          },
          "execution_count": 23
        },
        {
          "output_type": "display_data",
          "data": {
            "image/png": "[encoded data removed]",
            "text/plain": [
              "<Figure size 432x288 with 1 Axes>"
            ]
          },
          "metadata": {
            "tags": []
          }
        }
      ]
    }
  ]
}